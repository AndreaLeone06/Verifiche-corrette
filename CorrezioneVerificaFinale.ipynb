{
  "nbformat": 4,
  "nbformat_minor": 0,
  "metadata": {
    "colab": {
      "provenance": []
    },
    "kernelspec": {
      "name": "python3",
      "display_name": "Python 3"
    },
    "language_info": {
      "name": "python"
    }
  },
  "cells": [
    {
      "cell_type": "markdown",
      "source": [
        "Esercizio 1"
      ],
      "metadata": {
        "id": "yomIPDWjBFg5"
      }
    },
    {
      "cell_type": "code",
      "source": [
        "cassaComune={\"Aldo\":[10,20,40,100,5],\n",
        "             \"Gianni\":[50,50,25,30],\n",
        "             \"Andrea\":[200,150],\n",
        "             \"Miki\":[15,5,5,10,5,20]}"
      ],
      "metadata": {
        "id": "8RfIMw-GBvHG"
      },
      "execution_count": null,
      "outputs": []
    },
    {
      "cell_type": "code",
      "source": [
        "#1 gli ultimi due versamenti di ogni amico: visualizzare in nome e i versamenti\n",
        "for amico,versamenti in cassaComune.items():\n",
        "  print(amico, versamenti[-2:])"
      ],
      "metadata": {
        "id": "t37ecNVDClBo"
      },
      "execution_count": null,
      "outputs": []
    },
    {
      "cell_type": "code",
      "source": [
        "#2 il totale versato da ogni amico: visualizzare in nome e il totale\n",
        "for amico,versamenti in cassaComune.items():\n",
        "  print(amico, sum(versamenti))"
      ],
      "metadata": {
        "id": "8Kd5nsEJDUt_"
      },
      "execution_count": null,
      "outputs": []
    },
    {
      "cell_type": "code",
      "source": [
        "#3 l’amico che ha versato di più\n",
        "max(cassaComune, key=cassaComune.get)"
      ],
      "metadata": {
        "id": "I3HRc6iDDnuX"
      },
      "execution_count": null,
      "outputs": []
    },
    {
      "cell_type": "code",
      "source": [
        "#4 dato il nome di un amico, inserito dall’utente, visualizzare i suoi versamenti a partire dal minore fino al maggiore. Controllare che il nome dell’amico sia presente, altrimenti dare un messaggio di errore opportuno\n",
        "nc=input(\"inserire un nome\")\n",
        "if nc in cassaComune:\n",
        "  print(nc,sorted(cassaComune[nc]))\n",
        "else:\n",
        "  print(\"non è presente\")"
      ],
      "metadata": {
        "id": "K-CPOrSdFbov"
      },
      "execution_count": null,
      "outputs": []
    },
    {
      "cell_type": "code",
      "source": [
        "#5 Andrea ha ottenuto un rimborso premio delle sue spese: eliminarlo dalla struttura dati\n",
        "cassaComune.pop(\"Andrea\")"
      ],
      "metadata": {
        "id": "QWVrEjP1HAan"
      },
      "execution_count": null,
      "outputs": []
    },
    {
      "cell_type": "markdown",
      "source": [
        "Esercizio 2"
      ],
      "metadata": {
        "id": "UXl3eYpoILyb"
      }
    },
    {
      "cell_type": "code",
      "source": [
        "#1 Utilizzare la list comprehension per caricare una lista con 100 numeri casuali compresi tra 1 e 20 (estremi inclusi).\n",
        "import random\n",
        "casuali=[random.randint(1,20) for indice in range(100)]\n",
        "print(casuali)"
      ],
      "metadata": {
        "id": "wwqJzfk0INYv"
      },
      "execution_count": null,
      "outputs": []
    },
    {
      "cell_type": "code",
      "source": [
        "#2 Scrivere il codice per caricare in una opportuna struttura dati (una sola struttura dati) il numero di volte che ogni numero si ripete. Ad esempio se la lista contenesse [4, 5, 4, 2, 4, 5] bisognerebbe memorizzare nella struttura dati il fatto che il 4 si ripete tre volte, il 5 due volte, il 2 una volta sola. Chiamare la struttura dati “ripetizioni”\n",
        "ripetizioni={i:casuali.count(i) for i in set(casuali)}\n",
        "print(ripetizioni)"
      ],
      "metadata": {
        "colab": {
          "base_uri": "https://localhost:8080/"
        },
        "id": "QTw2wsMtIN6P",
        "outputId": "4e952843-b2aa-4707-e54c-224230ddabd8"
      },
      "execution_count": null,
      "outputs": [
        {
          "output_type": "stream",
          "name": "stdout",
          "text": [
            "{1: 6, 2: 5, 3: 2, 4: 3, 5: 7, 6: 5, 7: 10, 8: 7, 9: 3, 10: 6, 11: 3, 12: 5, 13: 7, 14: 1, 15: 8, 16: 5, 17: 1, 18: 7, 19: 3, 20: 6}\n"
          ]
        }
      ]
    },
    {
      "cell_type": "code",
      "source": [
        "#3 Visualizzare l’elenco dei numeri della struttura dati nella forma <numero> - <numeroRipetizioni> ordinandolo sul numero.\n",
        "for key,value in ripetizioni.items():\n",
        "  print(key,\"-\",value)"
      ],
      "metadata": {
        "id": "CDZNa4s-IOJe"
      },
      "execution_count": null,
      "outputs": []
    },
    {
      "cell_type": "code",
      "source": [
        "#4 Visualizzare l’elenco precedente ordinandolo in ordine decrescente sul numero di ripetizioni\n",
        "import operator\n",
        "dati=dict(sorted(ripetizioni.items(), key=operator.itemgetter(1), reverse=True))\n",
        "for key,value in dati.items():\n",
        "  print(key,\"-\",value)"
      ],
      "metadata": {
        "id": "NXggmmzKIOVu"
      },
      "execution_count": null,
      "outputs": []
    },
    {
      "cell_type": "markdown",
      "source": [
        "Esercizio 3"
      ],
      "metadata": {
        "id": "4eKIxWAGInR3"
      }
    },
    {
      "cell_type": "code",
      "source": [
        "#1 caricare il dataset nel proprio Drive nella cartella Colab Notebooks. Caricare poi i dati in un dataframe di Pandas\n",
        "from google.colab import drive\n",
        "drive.mount('/content/drive')\n",
        "import pandas as pd\n",
        "df = pd.read_csv('/content/drive/MyDrive/Colab Notebooks/df_3 (1).csv')\n",
        "df"
      ],
      "metadata": {
        "id": "EHWxpj6TIrNL"
      },
      "execution_count": null,
      "outputs": []
    },
    {
      "cell_type": "code",
      "source": [
        "#2 visualizzare in due modi gli ultimi 10 record\n",
        "df.tail(10)\n",
        "df[-10:]"
      ],
      "metadata": {
        "id": "j1IUnLoKIra3"
      },
      "execution_count": null,
      "outputs": []
    },
    {
      "cell_type": "code",
      "source": [
        "#3 visualizzare la seconda e la terza colonna delle righe dalla 200 alla 210 (comprese)\n",
        "df[['Name','Chief developer, company']][200:202]"
      ],
      "metadata": {
        "id": "3vgj-_yrIroe"
      },
      "execution_count": null,
      "outputs": []
    },
    {
      "cell_type": "code",
      "source": [
        "#4 visualizzare i 10 record centrali. Fare in modo che il codice possa funzionare anche se dovesse cambiare la lunghezza del dataframe\n",
        "df[(len(df)//2)-5:(len(df)//2)+5]"
      ],
      "metadata": {
        "id": "4ZHLw7geIrzo"
      },
      "execution_count": null,
      "outputs": []
    },
    {
      "cell_type": "code",
      "source": [
        "#5 visualizzare il numero di linguaggi di programmazione di cui non si conosce il predecessore\n",
        "df[df[\"Predecessor(s)\"].isnull()]['Name'].count()"
      ],
      "metadata": {
        "id": "E0C5IgkkIsHm"
      },
      "execution_count": null,
      "outputs": []
    },
    {
      "cell_type": "code",
      "source": [
        "#6 visualizzare i linguaggi di programmazione che hanno la parola Pascal nel nome\n",
        "df[df.Name.str.contains('Pascal')]"
      ],
      "metadata": {
        "id": "5rW8CRJLIsTu"
      },
      "execution_count": null,
      "outputs": []
    },
    {
      "cell_type": "code",
      "source": [
        "#7 visualizzare i linguaggi di programmazione che hanno la parola C++ nel nome\n",
        "df[df.Name.str.contains('C\\+\\+')]"
      ],
      "metadata": {
        "id": "j1kYIVbpIsgG"
      },
      "execution_count": null,
      "outputs": []
    },
    {
      "cell_type": "code",
      "source": [
        "#8 visualizzare gli anni in cui sono stati inventati più di 5 linguaggi di programmazione\n"
      ],
      "metadata": {
        "id": "5Gf62hjHIssm"
      },
      "execution_count": null,
      "outputs": []
    },
    {
      "cell_type": "code",
      "source": [
        "#9 appresentare i dati dell’esercizio precedente con un grafico a barre orizzontali, specificando bene titolo, assi e legenda. Dare colori diversi alle barre.\n",
        "import matplotlib.pyplot as plt\n"
      ],
      "metadata": {
        "id": "UT6Or2yBIs7P"
      },
      "execution_count": null,
      "outputs": []
    }
  ]
}